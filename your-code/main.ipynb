{
 "cells": [
  {
   "cell_type": "markdown",
   "metadata": {},
   "source": [
    "# Introduction To Probability\n",
    "## Challenge 1\n",
    "\n",
    "A and B are events of a probability space with $(\\omega, \\sigma, P)$ such that $P(A) = 0.3$, $P(B) = 0.6$ and $P(A \\cap B) = 0.1$\n",
    "\n",
    "Which of the following statements are false?\n",
    "* $P(A \\cup B) = 0.6$\n",
    "* $P(A \\cap B^{C}) = 0.2$\n",
    "* $P(A \\cap (B \\cup B^{C})) = 0.4$\n",
    "* $P(A^{C} \\cap B^{C}) = 0.3$\n",
    "* $P((A \\cap B)^{C}) = 0.9$"
   ]
  },
  {
   "cell_type": "code",
   "execution_count": 3,
   "metadata": {},
   "outputs": [
    {
     "data": {
      "text/plain": [
       "'\\n* ANSWERS (Respectively)\\n\\n* $P(A \\\\cup B) = 0.6$               FALSE, the answer is 0.8\\n* $P(A \\\\cap B^{C}) = 0.2$           CORRECT\\n* $P(A \\\\cap (B \\\\cup B^{C})) = 0.4$  FALSE, the answer is 0.3 (same as P(A))\\n* $P(A^{C} \\\\cap B^{C}) = 0.3$       FALSE, the answer is 0.2\\n* $P((A \\\\cap B)^{C}) = 0.9$         CORRECT\\n\\n'"
      ]
     },
     "execution_count": 3,
     "metadata": {},
     "output_type": "execute_result"
    }
   ],
   "source": [
    "\"\"\"\n",
    "* ANSWERS (Respectively)\n",
    "\n",
    "* $P(A \\cup B) = 0.6$               FALSE, the answer is 0.8\n",
    "* $P(A \\cap B^{C}) = 0.2$           CORRECT\n",
    "* $P(A \\cap (B \\cup B^{C})) = 0.4$  FALSE, the answer is 0.3 (same as P(A))\n",
    "* $P(A^{C} \\cap B^{C}) = 0.3$       FALSE, the answer is 0.2\n",
    "* $P((A \\cap B)^{C}) = 0.9$         CORRECT\n",
    "\n",
    "\"\"\""
   ]
  },
  {
   "cell_type": "markdown",
   "metadata": {},
   "source": [
    "## Challenge 2\n",
    "There is a box with 10 white balls, 12 red balls and 8 black balls. Calculate the probability of:\n",
    "* Taking a white ball out.\n",
    "* Taking a white ball out after taking a black ball out.\n",
    "* Taking a red ball out after taking a black and a red ball out.\n",
    "* Taking a red ball out after taking a black and a red ball out with reposition.\n",
    "\n",
    "**Hint**: Reposition means putting back the ball into the box after taking it out."
   ]
  },
  {
   "cell_type": "code",
   "execution_count": 2,
   "metadata": {},
   "outputs": [
    {
     "data": {
      "text/plain": [
       "'\\n* Taking a white ball out. --> Probability of 10/30 = 33.3%\\n* Taking a white ball out after taking a black ball out. --> Probability of 10/29 = 34.48%\\n* Taking a red ball out after taking a black and a red ball out. --> Probability of 11/28 = 39.29%\\n* Taking a red ball out after taking a black and a red ball out with reposition. --> Probability of 12/30 = 40%\\n'"
      ]
     },
     "execution_count": 2,
     "metadata": {},
     "output_type": "execute_result"
    }
   ],
   "source": [
    "\"\"\"\n",
    "* Taking a white ball out. --> Probability of 10/30 = 33.3%\n",
    "* Taking a white ball out after taking a black ball out. --> Probability of 10/29 = 34.48%\n",
    "* Taking a red ball out after taking a black and a red ball out. --> Probability of 11/28 = 39.29%\n",
    "* Taking a red ball out after taking a black and a red ball out with reposition. --> Probability of 12/30 = 40%\n",
    "\"\"\""
   ]
  },
  {
   "cell_type": "markdown",
   "metadata": {},
   "source": [
    "## Challenge 3\n",
    "\n",
    "You are planning to go on a picnic today but the morning is cloudy. You hate rain so you don't know whether to go out or stay home! To help you make a decision, you gather the following data about rainy days:\n",
    "\n",
    "* Knowing that it is a rainy day, the probability of cloudy is 50%!\n",
    "* The probability of any day (rainy or not) starting off cloudy is 40%. \n",
    "* This month is usually dry so only 3 of 30 days (10%) tend to be rainy. \n",
    "\n",
    "What is the probability of rain, given the day started cloudy?"
   ]
  },
  {
   "cell_type": "code",
   "execution_count": 4,
   "metadata": {},
   "outputs": [
    {
     "data": {
      "text/plain": [
       "'\\nBAYESIAN THEOREM\\n\\nP(A) = 0.1 (rainy day)\\nP(B) = 0.4 (cloudy day)\\nP(B|A) = 0.5\\nP(A|B) = ???\\n\\nP(A|B) = ( P(B|A) * P(A) )/( P(B) )\\n\\nP(A|B) = (0.5*0.1)/0.4 = 0.125\\n\\nThe probability is 12.5%\\n'"
      ]
     },
     "execution_count": 4,
     "metadata": {},
     "output_type": "execute_result"
    }
   ],
   "source": [
    "\"\"\"\n",
    "BAYESIAN THEOREM\n",
    "\n",
    "P(A) = 0.1 (rainy day)\n",
    "P(B) = 0.4 (cloudy day)\n",
    "P(B|A) = 0.5\n",
    "P(A|B) = ???\n",
    "\n",
    "P(A|B) = ( P(B|A) * P(A) )/( P(B) )\n",
    "\n",
    "P(A|B) = (0.5*0.1)/0.4 = 0.125\n",
    "\n",
    "The probability is 12.5%\n",
    "\"\"\""
   ]
  },
  {
   "cell_type": "markdown",
   "metadata": {},
   "source": [
    "## Challenge 4\n",
    "\n",
    "One thousand people were asked through a telephone survey whether they thought more street lighting is needed at night or not.\n",
    "\n",
    "Out of the 480 men that answered the survey, 324 said yes and 156 said no. On the other hand, out of the 520 women that answered, 351 said yes and 169 said no. \n",
    "\n",
    "We wonder if men and women have a different opinions about the street lighting matter. Is gender relevant or irrelevant to the question?\n",
    "\n",
    "Consider the following events:\n",
    "- The answer is yes, so the person that answered thinks that more street lighting is needed.\n",
    "- The person who answered is a man.\n",
    "\n",
    "We want to know if these events are independent, that is, if the fact of wanting more light depends on whether one is male or female. Are these events independent or not?\n",
    "\n",
    "**Hint**: To clearly compare the answers by gender, it is best to place the data in a table."
   ]
  },
  {
   "cell_type": "code",
   "execution_count": 22,
   "metadata": {},
   "outputs": [
    {
     "data": {
      "text/html": [
       "<div>\n",
       "<style scoped>\n",
       "    .dataframe tbody tr th:only-of-type {\n",
       "        vertical-align: middle;\n",
       "    }\n",
       "\n",
       "    .dataframe tbody tr th {\n",
       "        vertical-align: top;\n",
       "    }\n",
       "\n",
       "    .dataframe thead th {\n",
       "        text-align: right;\n",
       "    }\n",
       "</style>\n",
       "<table border=\"1\" class=\"dataframe\">\n",
       "  <thead>\n",
       "    <tr style=\"text-align: right;\">\n",
       "      <th></th>\n",
       "      <th>Man</th>\n",
       "      <th>Woman</th>\n",
       "    </tr>\n",
       "  </thead>\n",
       "  <tbody>\n",
       "    <tr>\n",
       "      <th>yes</th>\n",
       "      <td>324</td>\n",
       "      <td>351</td>\n",
       "    </tr>\n",
       "    <tr>\n",
       "      <th>no</th>\n",
       "      <td>156</td>\n",
       "      <td>169</td>\n",
       "    </tr>\n",
       "  </tbody>\n",
       "</table>\n",
       "</div>"
      ],
      "text/plain": [
       "     Man  Woman\n",
       "yes  324    351\n",
       "no   156    169"
      ]
     },
     "execution_count": 22,
     "metadata": {},
     "output_type": "execute_result"
    }
   ],
   "source": [
    "import pandas as pd\n",
    "import numpy as np\n",
    "\n",
    "dataframe = pd.DataFrame([[324, 156],[351,169]],['Man','Woman'], columns=['yes','no']).T\n",
    "dataframe"
   ]
  },
  {
   "cell_type": "code",
   "execution_count": null,
   "metadata": {},
   "outputs": [],
   "source": [
    "\"\"\"\n",
    "We can calculate the probabilites of gender and answer:\n",
    "Probability of being a man -> P(M) = 480/1000 = 0.48\n",
    "Probability of answering yes -> P(Y) = (324 + 351)/1000 = 0.675\n",
    "P(M'intersect'Y) = 324/1000 = 0.324\n",
    "\n",
    "To check if the events are independent we can check the following condition:\n",
    "\n",
    "P(M) * P(Y) = P(M'intersect'Y)\n",
    "0.48 * 0675 = 0.324\n",
    "0.324 = 0.324\n",
    "\n",
    "Because the condition is met, we can say that the two events are independent.\n",
    "\n",
    "\"\"\""
   ]
  }
 ],
 "metadata": {
  "interpreter": {
   "hash": "c46df99c39bb9a82aa3a80b0252004354fd809a06843b5a94e52a4adc2e83888"
  },
  "kernelspec": {
   "display_name": "Python 3.7.9 ('projectsql')",
   "language": "python",
   "name": "python3"
  },
  "language_info": {
   "codemirror_mode": {
    "name": "ipython",
    "version": 3
   },
   "file_extension": ".py",
   "mimetype": "text/x-python",
   "name": "python",
   "nbconvert_exporter": "python",
   "pygments_lexer": "ipython3",
   "version": "3.7.9"
  }
 },
 "nbformat": 4,
 "nbformat_minor": 2
}
